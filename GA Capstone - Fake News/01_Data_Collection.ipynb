{
 "cells": [
  {
   "cell_type": "code",
   "execution_count": 2,
   "metadata": {},
   "outputs": [],
   "source": [
    "import pandas as pd\n",
    "from bs4 import BeautifulSoup\n",
    "import requests\n",
    "import time"
   ]
  },
  {
   "cell_type": "code",
   "execution_count": 3,
   "metadata": {},
   "outputs": [
    {
     "name": "stdout",
     "output_type": "stream",
     "text": [
      "Scraping Page: 1\n",
      "200\n"
     ]
    },
    {
     "data": {
      "text/html": [
       "<div>\n",
       "<style scoped>\n",
       "    .dataframe tbody tr th:only-of-type {\n",
       "        vertical-align: middle;\n",
       "    }\n",
       "\n",
       "    .dataframe tbody tr th {\n",
       "        vertical-align: top;\n",
       "    }\n",
       "\n",
       "    .dataframe thead th {\n",
       "        text-align: right;\n",
       "    }\n",
       "</style>\n",
       "<table border=\"1\" class=\"dataframe\">\n",
       "  <thead>\n",
       "    <tr style=\"text-align: right;\">\n",
       "      <th></th>\n",
       "      <th>Statement</th>\n",
       "      <th>Article</th>\n",
       "      <th>Date</th>\n",
       "      <th>Source</th>\n",
       "      <th>Label</th>\n",
       "    </tr>\n",
       "  </thead>\n",
       "  <tbody>\n",
       "    <tr>\n",
       "      <th>0</th>\n",
       "      <td>During the debate, Kamala Harris said, “that’s...</td>\n",
       "      <td>https://www.politifact.com/factchecks/2020/oct...</td>\n",
       "      <td>By Ciara O'Rourke • October 12, 2020</td>\n",
       "      <td>Facebook posts</td>\n",
       "      <td>barely-true</td>\n",
       "    </tr>\n",
       "    <tr>\n",
       "      <th>1</th>\n",
       "      <td>Image shows Nancy Pelosi drunk and being kisse...</td>\n",
       "      <td>https://www.politifact.com/factchecks/2020/oct...</td>\n",
       "      <td>By Rebecca Catalanello • October 12, 2020</td>\n",
       "      <td>Facebook posts</td>\n",
       "      <td>false</td>\n",
       "    </tr>\n",
       "    <tr>\n",
       "      <th>2</th>\n",
       "      <td>Says Dr. Anthony Fauci said of Trump’s pandemi...</td>\n",
       "      <td>https://www.politifact.com/factchecks/2020/oct...</td>\n",
       "      <td>By Bill McCarthy • October 11, 2020</td>\n",
       "      <td>Donald Trump</td>\n",
       "      <td>barely-true</td>\n",
       "    </tr>\n",
       "    <tr>\n",
       "      <th>3</th>\n",
       "      <td>Says U.S. Rep. Lauren Underwood described riot...</td>\n",
       "      <td>https://www.politifact.com/factchecks/2020/oct...</td>\n",
       "      <td>By Kiannah Sepeda-Miller • October 11, 2020</td>\n",
       "      <td>Jim Oberweis</td>\n",
       "      <td>false</td>\n",
       "    </tr>\n",
       "    <tr>\n",
       "      <th>4</th>\n",
       "      <td>\"If Biden becomes president and cannot complet...</td>\n",
       "      <td>https://www.politifact.com/factchecks/2020/oct...</td>\n",
       "      <td>By Ilana Strauss • October 10, 2020</td>\n",
       "      <td>Facebook posts</td>\n",
       "      <td>false</td>\n",
       "    </tr>\n",
       "  </tbody>\n",
       "</table>\n",
       "</div>"
      ],
      "text/plain": [
       "                                           Statement  \\\n",
       "0  During the debate, Kamala Harris said, “that’s...   \n",
       "1  Image shows Nancy Pelosi drunk and being kisse...   \n",
       "2  Says Dr. Anthony Fauci said of Trump’s pandemi...   \n",
       "3  Says U.S. Rep. Lauren Underwood described riot...   \n",
       "4  \"If Biden becomes president and cannot complet...   \n",
       "\n",
       "                                             Article  \\\n",
       "0  https://www.politifact.com/factchecks/2020/oct...   \n",
       "1  https://www.politifact.com/factchecks/2020/oct...   \n",
       "2  https://www.politifact.com/factchecks/2020/oct...   \n",
       "3  https://www.politifact.com/factchecks/2020/oct...   \n",
       "4  https://www.politifact.com/factchecks/2020/oct...   \n",
       "\n",
       "                                          Date          Source        Label  \n",
       "0         By Ciara O'Rourke • October 12, 2020  Facebook posts  barely-true  \n",
       "1    By Rebecca Catalanello • October 12, 2020  Facebook posts        false  \n",
       "2          By Bill McCarthy • October 11, 2020    Donald Trump  barely-true  \n",
       "3  By Kiannah Sepeda-Miller • October 11, 2020    Jim Oberweis        false  \n",
       "4          By Ilana Strauss • October 10, 2020  Facebook posts        false  "
      ]
     },
     "execution_count": 3,
     "metadata": {},
     "output_type": "execute_result"
    }
   ],
   "source": [
    "upperframe=[]  \n",
    "num_pages=1 # The total number of pages you can scrape from PolitiFact was 613 at the time of this project\n",
    "for page in range(1,num_pages+1):\n",
    "    \n",
    "    print(f'Scraping Page: {page}')\n",
    "    url = 'https://www.politifact.com/factchecks/list/?page='+str(page)\n",
    "\n",
    "    response=requests.get(url)   \n",
    "    print(response.status_code)\n",
    "        \n",
    "    if response.status_code != 200:\n",
    "        print(f'Failed to scrape page {page}')\n",
    "        \n",
    "    soup=BeautifulSoup(response.text,'lxml')\n",
    "    frame=[]\n",
    "    table=soup.find_all('li',attrs={'class':'o-listicle__item'})\n",
    "    \n",
    "    for row in table:\n",
    "        Statement = row.find(\"div\",attrs={'class':'m-statement__quote'}).text.strip()\n",
    "        Article = \"https://www.politifact.com\" + row.find(\"div\",attrs={'class':'m-statement__quote'}).find('a')['href'].strip()\n",
    "        Date = row.find('div',attrs={'class':'m-statement__body'}).find('footer').text.strip()\n",
    "        Source = row.find('div', attrs={'class':'m-statement__meta'}).find('a').text.strip()\n",
    "        Label = row.find('div', attrs ={'class':'m-statement__content'}).find('img',attrs={'class':'c-image__original'}).get('alt').strip()\n",
    "        frame.append((Statement,Article,Date,Source,Label))\n",
    "    upperframe.extend(frame)\n",
    "    \n",
    "    time.sleep(5)\n",
    "\n",
    "data=pd.DataFrame(upperframe, columns=['Statement','Article','Date','Source','Label'])\n",
    "data.head()"
   ]
  },
  {
   "cell_type": "code",
   "execution_count": 32,
   "metadata": {},
   "outputs": [
    {
     "data": {
      "text/plain": [
       "(17730, 5)"
      ]
     },
     "execution_count": 32,
     "metadata": {},
     "output_type": "execute_result"
    }
   ],
   "source": [
    "data.shape"
   ]
  },
  {
   "cell_type": "code",
   "execution_count": 34,
   "metadata": {},
   "outputs": [
    {
     "data": {
      "text/plain": [
       "Statement    0\n",
       "Article      0\n",
       "Date         0\n",
       "Source       0\n",
       "Label        0\n",
       "dtype: int64"
      ]
     },
     "execution_count": 34,
     "metadata": {},
     "output_type": "execute_result"
    }
   ],
   "source": [
    "data.isnull().sum()"
   ]
  },
  {
   "cell_type": "code",
   "execution_count": 40,
   "metadata": {},
   "outputs": [
    {
     "data": {
      "text/plain": [
       "'https://www.politifact.com/factchecks/2007/nov/26/barack-obama/no-mandate-makes-universal-claim-tough/'"
      ]
     },
     "execution_count": 40,
     "metadata": {},
     "output_type": "execute_result"
    }
   ],
   "source": [
    "data['Article'][17729]"
   ]
  },
  {
   "cell_type": "code",
   "execution_count": 47,
   "metadata": {},
   "outputs": [],
   "source": [
    "data.to_csv('politifact_news.csv', index = False)"
   ]
  },
  {
   "cell_type": "code",
   "execution_count": 4,
   "metadata": {},
   "outputs": [],
   "source": [
    "upperframe_2=[]\n",
    "for i in range(0, len(data['Article'])):\n",
    "    \n",
    "    url = data['Article'][i]\n",
    "    response=requests.get(url)   \n",
    "    \n",
    "    if i%200 == 0:\n",
    "        print(f'Scraping Page: {i}')\n",
    "        print(url)\n",
    "        print(response.status_code)\n",
    "        time.sleep(10)\n",
    "    \n",
    "    elif response.status_code != 200:\n",
    "        print(f'Failed to scrape page {i}')\n",
    "        upperframe_2.append(['NA'])\n",
    "        continue\n",
    "        \n",
    "    soup=BeautifulSoup(response.text,'lxml')\n",
    "    frame=[]\n",
    "    table=soup.find('article',attrs={'class':'m-textblock'})\n",
    "    for row in table.find_all('p')[:-3]:\n",
    "        info = row.text.strip().split('\\n')\n",
    "        frame.append(info)\n",
    "        result = []\n",
    "        [result.extend(_) for _ in frame]\n",
    "        result = [' '.join(result)]\n",
    "    upperframe_2.append(result)\n",
    "    \n",
    "articles=pd.DataFrame(upperframe_2, columns = ['Story'])\n",
    "articles.head()"
   ]
  },
  {
   "cell_type": "code",
   "execution_count": 169,
   "metadata": {},
   "outputs": [],
   "source": [
    "upperframe_2[5] = ['NA']"
   ]
  },
  {
   "cell_type": "code",
   "execution_count": 5,
   "metadata": {},
   "outputs": [],
   "source": [
    "articles=pd.DataFrame(upperframe_2, columns = ['Story'])\n",
    "articles.head(10)"
   ]
  },
  {
   "cell_type": "code",
   "execution_count": 172,
   "metadata": {},
   "outputs": [
    {
     "data": {
      "text/plain": [
       "(17730, 1)"
      ]
     },
     "execution_count": 172,
     "metadata": {},
     "output_type": "execute_result"
    }
   ],
   "source": [
    "articles.shape"
   ]
  },
  {
   "cell_type": "code",
   "execution_count": 209,
   "metadata": {},
   "outputs": [],
   "source": [
    "complete_data = pd.concat([articles,data], axis = 1)"
   ]
  },
  {
   "cell_type": "code",
   "execution_count": 211,
   "metadata": {},
   "outputs": [],
   "source": [
    "new_date = []\n",
    "for i in range(0, len(complete_data['Article'])):\n",
    "    new_date.append(complete_data['Article'][i][38:49])"
   ]
  },
  {
   "cell_type": "code",
   "execution_count": 212,
   "metadata": {},
   "outputs": [],
   "source": [
    "complete_data['date'] = new_date"
   ]
  },
  {
   "cell_type": "code",
   "execution_count": 6,
   "metadata": {},
   "outputs": [],
   "source": [
    "complete_data.head()"
   ]
  },
  {
   "cell_type": "code",
   "execution_count": 214,
   "metadata": {},
   "outputs": [],
   "source": [
    "complete_data.to_csv('complete_politifact_news.csv', index = False)"
   ]
  },
  {
   "cell_type": "code",
   "execution_count": null,
   "metadata": {},
   "outputs": [],
   "source": []
  }
 ],
 "metadata": {
  "kernelspec": {
   "display_name": "Python 3",
   "language": "python",
   "name": "python3"
  },
  "language_info": {
   "codemirror_mode": {
    "name": "ipython",
    "version": 3
   },
   "file_extension": ".py",
   "mimetype": "text/x-python",
   "name": "python",
   "nbconvert_exporter": "python",
   "pygments_lexer": "ipython3",
   "version": "3.7.9"
  }
 },
 "nbformat": 4,
 "nbformat_minor": 4
}
