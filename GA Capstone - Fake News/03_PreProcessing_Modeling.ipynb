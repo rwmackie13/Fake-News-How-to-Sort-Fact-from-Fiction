{
 "cells": [
  {
   "cell_type": "code",
   "execution_count": 58,
   "metadata": {},
   "outputs": [],
   "source": [
    "import pandas as pd\n",
    "import numpy as np\n",
    "import os\n",
    "import time\n",
    "\n",
    "from sklearn.feature_extraction.text import TfidfVectorizer\n",
    "from sklearn.model_selection import train_test_split, GridSearchCV\n",
    "\n",
    "import nltk\n",
    "import re\n",
    "from nltk.corpus import stopwords\n",
    "from nltk.stem.porter import PorterStemmer\n",
    "\n",
    "from keras.preprocessing.text import one_hot\n",
    "from tensorflow.keras.preprocessing.sequence import pad_sequences\n",
    "from tensorflow.keras.layers import Embedding, LSTM, Dense, Dropout\n",
    "from tensorflow.keras.models import Sequential\n",
    "from keras.wrappers.scikit_learn import KerasClassifier\n",
    "from keras.utils.np_utils import to_categorical\n",
    "from tensorflow.keras.callbacks import EarlyStopping\n",
    "\n",
    "\n",
    "import dill as pickle"
   ]
  },
  {
   "cell_type": "code",
   "execution_count": 3,
   "metadata": {},
   "outputs": [
    {
     "data": {
      "text/plain": [
       "'/Users/ryanmackie/Documents/DSI_coursework/Submissions/Projects/capstone-master/part_02'"
      ]
     },
     "execution_count": 3,
     "metadata": {},
     "output_type": "execute_result"
    }
   ],
   "source": [
    "os.getcwd()  # Get the current working directory (cwd)"
   ]
  },
  {
   "cell_type": "code",
   "execution_count": 4,
   "metadata": {},
   "outputs": [],
   "source": [
    "os.chdir('/Users/ryanmackie/Documents/DSI_coursework/Submissions/Projects/capstone-master/part_03')"
   ]
  },
  {
   "cell_type": "code",
   "execution_count": 5,
   "metadata": {},
   "outputs": [
    {
     "data": {
      "text/plain": [
       "'/Users/ryanmackie/Documents/DSI_coursework/Submissions/Projects/capstone-master/part_03'"
      ]
     },
     "execution_count": 5,
     "metadata": {},
     "output_type": "execute_result"
    }
   ],
   "source": [
    "os.getcwd()"
   ]
  },
  {
   "cell_type": "code",
   "execution_count": 63,
   "metadata": {},
   "outputs": [
    {
     "name": "stdout",
     "output_type": "stream",
     "text": [
      "The dataframe has 17730 rows and 7 columns.\n"
     ]
    },
    {
     "data": {
      "text/html": [
       "<div>\n",
       "<style scoped>\n",
       "    .dataframe tbody tr th:only-of-type {\n",
       "        vertical-align: middle;\n",
       "    }\n",
       "\n",
       "    .dataframe tbody tr th {\n",
       "        vertical-align: top;\n",
       "    }\n",
       "\n",
       "    .dataframe thead th {\n",
       "        text-align: right;\n",
       "    }\n",
       "</style>\n",
       "<table border=\"1\" class=\"dataframe\">\n",
       "  <thead>\n",
       "    <tr style=\"text-align: right;\">\n",
       "      <th></th>\n",
       "      <th>Story</th>\n",
       "      <th>Statement</th>\n",
       "      <th>Article</th>\n",
       "      <th>Date</th>\n",
       "      <th>Source</th>\n",
       "      <th>Label</th>\n",
       "      <th>date</th>\n",
       "    </tr>\n",
       "  </thead>\n",
       "  <tbody>\n",
       "    <tr>\n",
       "      <th>0</th>\n",
       "      <td>An ad from a group opposing a constitutional a...</td>\n",
       "      <td>Approving the constitutional amendment on Illi...</td>\n",
       "      <td>https://www.politifact.com/factchecks/2020/oct...</td>\n",
       "      <td>October 4, 2020</td>\n",
       "      <td>Coalition to Stop the Proposed Tax Hike Amendment</td>\n",
       "      <td>half-true</td>\n",
       "      <td>2020/oct/04</td>\n",
       "    </tr>\n",
       "    <tr>\n",
       "      <th>1</th>\n",
       "      <td>As Donald Trump fights to recover from the cor...</td>\n",
       "      <td>Says Donald Trump is not at Walter Reed Nation...</td>\n",
       "      <td>https://www.politifact.com/factchecks/2020/oct...</td>\n",
       "      <td>October 4, 2020</td>\n",
       "      <td>Facebook posts</td>\n",
       "      <td>pants-fire</td>\n",
       "      <td>2020/oct/04</td>\n",
       "    </tr>\n",
       "    <tr>\n",
       "      <th>2</th>\n",
       "      <td>Even with President Donald Trump hospitalized ...</td>\n",
       "      <td>Says Joe Biden stays in his basement.</td>\n",
       "      <td>https://www.politifact.com/factchecks/2020/oct...</td>\n",
       "      <td>October 4, 2020</td>\n",
       "      <td>Jason MIller</td>\n",
       "      <td>false</td>\n",
       "      <td>2020/oct/04</td>\n",
       "    </tr>\n",
       "    <tr>\n",
       "      <th>3</th>\n",
       "      <td>Gov. Phil Scott came out firing when the issue...</td>\n",
       "      <td>“That 5% (wealth tax) starts at $159,000 per f...</td>\n",
       "      <td>https://www.politifact.com/factchecks/2020/oct...</td>\n",
       "      <td>October 4, 2020</td>\n",
       "      <td>Phil Scott</td>\n",
       "      <td>true</td>\n",
       "      <td>2020/oct/04</td>\n",
       "    </tr>\n",
       "    <tr>\n",
       "      <th>4</th>\n",
       "      <td>In one photo, President Donald Trump’s right b...</td>\n",
       "      <td>Says Donald Trump boarded Marine One \"with a p...</td>\n",
       "      <td>https://www.politifact.com/factchecks/2020/oct...</td>\n",
       "      <td>October 4, 2020</td>\n",
       "      <td>Facebook posts</td>\n",
       "      <td>false</td>\n",
       "      <td>2020/oct/04</td>\n",
       "    </tr>\n",
       "    <tr>\n",
       "      <th>5</th>\n",
       "      <td>NaN</td>\n",
       "      <td>Says he “strongly supports legalization for Dr...</td>\n",
       "      <td>https://www.politifact.com/factchecks/2020/oct...</td>\n",
       "      <td>October 3, 2020</td>\n",
       "      <td>John Cornyn</td>\n",
       "      <td>half-true</td>\n",
       "      <td>2020/oct/03</td>\n",
       "    </tr>\n",
       "  </tbody>\n",
       "</table>\n",
       "</div>"
      ],
      "text/plain": [
       "                                               Story  \\\n",
       "0  An ad from a group opposing a constitutional a...   \n",
       "1  As Donald Trump fights to recover from the cor...   \n",
       "2  Even with President Donald Trump hospitalized ...   \n",
       "3  Gov. Phil Scott came out firing when the issue...   \n",
       "4  In one photo, President Donald Trump’s right b...   \n",
       "5                                                NaN   \n",
       "\n",
       "                                           Statement  \\\n",
       "0  Approving the constitutional amendment on Illi...   \n",
       "1  Says Donald Trump is not at Walter Reed Nation...   \n",
       "2              Says Joe Biden stays in his basement.   \n",
       "3  “That 5% (wealth tax) starts at $159,000 per f...   \n",
       "4  Says Donald Trump boarded Marine One \"with a p...   \n",
       "5  Says he “strongly supports legalization for Dr...   \n",
       "\n",
       "                                             Article             Date  \\\n",
       "0  https://www.politifact.com/factchecks/2020/oct...  October 4, 2020   \n",
       "1  https://www.politifact.com/factchecks/2020/oct...  October 4, 2020   \n",
       "2  https://www.politifact.com/factchecks/2020/oct...  October 4, 2020   \n",
       "3  https://www.politifact.com/factchecks/2020/oct...  October 4, 2020   \n",
       "4  https://www.politifact.com/factchecks/2020/oct...  October 4, 2020   \n",
       "5  https://www.politifact.com/factchecks/2020/oct...  October 3, 2020   \n",
       "\n",
       "                                              Source       Label         date  \n",
       "0  Coalition to Stop the Proposed Tax Hike Amendment   half-true  2020/oct/04  \n",
       "1                                     Facebook posts  pants-fire  2020/oct/04  \n",
       "2                                       Jason MIller       false  2020/oct/04  \n",
       "3                                         Phil Scott        true  2020/oct/04  \n",
       "4                                     Facebook posts       false  2020/oct/04  \n",
       "5                                        John Cornyn   half-true  2020/oct/03  "
      ]
     },
     "execution_count": 63,
     "metadata": {},
     "output_type": "execute_result"
    }
   ],
   "source": [
    "df = pd.read_csv('./complete_politifact_news.csv')\n",
    "\n",
    "print(f'The dataframe has {df.shape[0]} rows and {df.shape[1]} columns.')\n",
    "df.head(6)"
   ]
  },
  {
   "cell_type": "code",
   "execution_count": 64,
   "metadata": {},
   "outputs": [
    {
     "data": {
      "text/plain": [
       "Story        9\n",
       "Statement    0\n",
       "Article      0\n",
       "Date         0\n",
       "Source       0\n",
       "Label        0\n",
       "date         0\n",
       "dtype: int64"
      ]
     },
     "execution_count": 64,
     "metadata": {},
     "output_type": "execute_result"
    }
   ],
   "source": [
    "df.isnull().sum()"
   ]
  },
  {
   "cell_type": "code",
   "execution_count": 66,
   "metadata": {},
   "outputs": [],
   "source": [
    "df = df.dropna().reset_index(drop = True)"
   ]
  },
  {
   "cell_type": "code",
   "execution_count": 67,
   "metadata": {},
   "outputs": [],
   "source": [
    "df = df.drop(columns = ['Statement','Article', 'Date', 'Source','date'])"
   ]
  },
  {
   "cell_type": "code",
   "execution_count": 68,
   "metadata": {},
   "outputs": [
    {
     "data": {
      "text/html": [
       "<div>\n",
       "<style scoped>\n",
       "    .dataframe tbody tr th:only-of-type {\n",
       "        vertical-align: middle;\n",
       "    }\n",
       "\n",
       "    .dataframe tbody tr th {\n",
       "        vertical-align: top;\n",
       "    }\n",
       "\n",
       "    .dataframe thead th {\n",
       "        text-align: right;\n",
       "    }\n",
       "</style>\n",
       "<table border=\"1\" class=\"dataframe\">\n",
       "  <thead>\n",
       "    <tr style=\"text-align: right;\">\n",
       "      <th></th>\n",
       "      <th>Story</th>\n",
       "      <th>Label</th>\n",
       "    </tr>\n",
       "  </thead>\n",
       "  <tbody>\n",
       "    <tr>\n",
       "      <th>0</th>\n",
       "      <td>An ad from a group opposing a constitutional a...</td>\n",
       "      <td>half-true</td>\n",
       "    </tr>\n",
       "    <tr>\n",
       "      <th>1</th>\n",
       "      <td>As Donald Trump fights to recover from the cor...</td>\n",
       "      <td>pants-fire</td>\n",
       "    </tr>\n",
       "    <tr>\n",
       "      <th>2</th>\n",
       "      <td>Even with President Donald Trump hospitalized ...</td>\n",
       "      <td>false</td>\n",
       "    </tr>\n",
       "    <tr>\n",
       "      <th>3</th>\n",
       "      <td>Gov. Phil Scott came out firing when the issue...</td>\n",
       "      <td>true</td>\n",
       "    </tr>\n",
       "    <tr>\n",
       "      <th>4</th>\n",
       "      <td>In one photo, President Donald Trump’s right b...</td>\n",
       "      <td>false</td>\n",
       "    </tr>\n",
       "  </tbody>\n",
       "</table>\n",
       "</div>"
      ],
      "text/plain": [
       "                                               Story       Label\n",
       "0  An ad from a group opposing a constitutional a...   half-true\n",
       "1  As Donald Trump fights to recover from the cor...  pants-fire\n",
       "2  Even with President Donald Trump hospitalized ...       false\n",
       "3  Gov. Phil Scott came out firing when the issue...        true\n",
       "4  In one photo, President Donald Trump’s right b...       false"
      ]
     },
     "execution_count": 68,
     "metadata": {},
     "output_type": "execute_result"
    }
   ],
   "source": [
    "df.head()"
   ]
  },
  {
   "cell_type": "code",
   "execution_count": 69,
   "metadata": {},
   "outputs": [
    {
     "data": {
      "text/plain": [
       "false          3960\n",
       "half-true      3174\n",
       "mostly-true    3024\n",
       "barely-true    2927\n",
       "true           2288\n",
       "pants-fire     2097\n",
       "full-flop       159\n",
       "half-flip        66\n",
       "no-flip          26\n",
       "Name: Label, dtype: int64"
      ]
     },
     "execution_count": 69,
     "metadata": {},
     "output_type": "execute_result"
    }
   ],
   "source": [
    "df['Label'].value_counts()"
   ]
  },
  {
   "cell_type": "code",
   "execution_count": 70,
   "metadata": {},
   "outputs": [],
   "source": [
    "df = df[(df['Label']!='full-flop')&(df['Label']!='half-flip')&(df['Label']!='no-flip')].reset_index().drop(['index'], axis=1)"
   ]
  },
  {
   "cell_type": "code",
   "execution_count": 71,
   "metadata": {},
   "outputs": [
    {
     "data": {
      "text/plain": [
       "false          3960\n",
       "half-true      3174\n",
       "mostly-true    3024\n",
       "barely-true    2927\n",
       "true           2288\n",
       "pants-fire     2097\n",
       "Name: Label, dtype: int64"
      ]
     },
     "execution_count": 71,
     "metadata": {},
     "output_type": "execute_result"
    }
   ],
   "source": [
    "df['Label'].value_counts()"
   ]
  },
  {
   "cell_type": "code",
   "execution_count": 72,
   "metadata": {},
   "outputs": [],
   "source": [
    "df['Label'] = df['Label'].map({'pants-fire':0, 'false':0, 'barely-true':0, 'half-true':1, 'mostly-true':1, 'true':1})"
   ]
  },
  {
   "cell_type": "code",
   "execution_count": 73,
   "metadata": {},
   "outputs": [
    {
     "data": {
      "text/html": [
       "<div>\n",
       "<style scoped>\n",
       "    .dataframe tbody tr th:only-of-type {\n",
       "        vertical-align: middle;\n",
       "    }\n",
       "\n",
       "    .dataframe tbody tr th {\n",
       "        vertical-align: top;\n",
       "    }\n",
       "\n",
       "    .dataframe thead th {\n",
       "        text-align: right;\n",
       "    }\n",
       "</style>\n",
       "<table border=\"1\" class=\"dataframe\">\n",
       "  <thead>\n",
       "    <tr style=\"text-align: right;\">\n",
       "      <th></th>\n",
       "      <th>Story</th>\n",
       "      <th>Label</th>\n",
       "    </tr>\n",
       "  </thead>\n",
       "  <tbody>\n",
       "    <tr>\n",
       "      <th>0</th>\n",
       "      <td>An ad from a group opposing a constitutional a...</td>\n",
       "      <td>1</td>\n",
       "    </tr>\n",
       "    <tr>\n",
       "      <th>1</th>\n",
       "      <td>As Donald Trump fights to recover from the cor...</td>\n",
       "      <td>0</td>\n",
       "    </tr>\n",
       "    <tr>\n",
       "      <th>2</th>\n",
       "      <td>Even with President Donald Trump hospitalized ...</td>\n",
       "      <td>0</td>\n",
       "    </tr>\n",
       "    <tr>\n",
       "      <th>3</th>\n",
       "      <td>Gov. Phil Scott came out firing when the issue...</td>\n",
       "      <td>1</td>\n",
       "    </tr>\n",
       "    <tr>\n",
       "      <th>4</th>\n",
       "      <td>In one photo, President Donald Trump’s right b...</td>\n",
       "      <td>0</td>\n",
       "    </tr>\n",
       "  </tbody>\n",
       "</table>\n",
       "</div>"
      ],
      "text/plain": [
       "                                               Story  Label\n",
       "0  An ad from a group opposing a constitutional a...      1\n",
       "1  As Donald Trump fights to recover from the cor...      0\n",
       "2  Even with President Donald Trump hospitalized ...      0\n",
       "3  Gov. Phil Scott came out firing when the issue...      1\n",
       "4  In one photo, President Donald Trump’s right b...      0"
      ]
     },
     "execution_count": 73,
     "metadata": {},
     "output_type": "execute_result"
    }
   ],
   "source": [
    "df.head()"
   ]
  },
  {
   "cell_type": "code",
   "execution_count": 86,
   "metadata": {},
   "outputs": [],
   "source": [
    "X = df['Story']\n",
    "y = df['Label']"
   ]
  },
  {
   "cell_type": "code",
   "execution_count": 18,
   "metadata": {},
   "outputs": [],
   "source": [
    "def to_words(series):\n",
    "    ps = PorterStemmer()\n",
    "    corpus = []\n",
    "    start = time.time()\n",
    "    for i in range(0, len(series)):\n",
    "        letters = re.sub('[^a-zA-Z]', ' ',series[i])\n",
    "        words = letters.lower().split()\n",
    "        meaningful_words = [ps.stem(w) for w in words if not w in stopwords.words('english')]\n",
    "        final = ' '.join(meaningful_words)\n",
    "        corpus.append(final)\n",
    "    end = time.time()\n",
    "    print(f'Time Elapsed: {round(end - start, 2)} seconds')\n",
    "    return corpus"
   ]
  },
  {
   "cell_type": "code",
   "execution_count": 19,
   "metadata": {},
   "outputs": [],
   "source": [
    "vocab_size = round(20_000*1.3)"
   ]
  },
  {
   "cell_type": "code",
   "execution_count": 20,
   "metadata": {},
   "outputs": [
    {
     "name": "stdout",
     "output_type": "stream",
     "text": [
      "Time Elapsed: 1985.78 seconds\n"
     ]
    }
   ],
   "source": [
    "onehot = [one_hot(val,vocab_size)for val in to_words(X)]"
   ]
  },
  {
   "cell_type": "code",
   "execution_count": 1,
   "metadata": {},
   "outputs": [],
   "source": [
    "maxlen = 0\n",
    "for i in range(0, len(df['Story'])):\n",
    "    number = len(df['Story'][i].split())\n",
    "    if number > maxlen:\n",
    "        maxlen = number\n",
    "\n",
    "padded_onehot = pad_sequences(onehot, padding = 'pre', maxlen = maxlen)"
   ]
  },
  {
   "cell_type": "code",
   "execution_count": 108,
   "metadata": {},
   "outputs": [
    {
     "name": "stdout",
     "output_type": "stream",
     "text": [
      "(17470, 2935)\n",
      "(17470,)\n"
     ]
    }
   ],
   "source": [
    "X_final = np.array(padded_onehot)\n",
    "y_final = np.array(y)\n",
    "\n",
    "print(X_final.shape)\n",
    "print(y_final.shape)\n",
    "\n",
    "# X_train, X_test, y_train, y_test = train_test_split(X_final, y_final, test_size = .2, random_state = 33)"
   ]
  },
  {
   "cell_type": "code",
   "execution_count": 109,
   "metadata": {},
   "outputs": [],
   "source": [
    "model = Sequential()\n",
    "model.add(Embedding(vocab_size,output_dim=100,input_length=maxlen))\n",
    "model.add(Dropout(0.3))\n",
    "model.add(LSTM(8))\n",
    "model.add(Dropout(0.5))\n",
    "model.add(Dense(128, activation='relu'))\n",
    "model.add(Dropout(0.5))\n",
    "model.add(Dense(64, activation='relu'))\n",
    "model.add(Dropout(0.5))\n",
    "model.add(Dense(32, activation='relu'))\n",
    "model.add(Dropout(0.5))\n",
    "model.add(Dense(1, activation='sigmoid'))\n",
    "model.compile(loss='binary_crossentropy', optimizer='adam', metrics = ['acc'])"
   ]
  },
  {
   "cell_type": "code",
   "execution_count": 110,
   "metadata": {},
   "outputs": [
    {
     "name": "stdout",
     "output_type": "stream",
     "text": [
      "Epoch 1/3\n",
      "546/546 [==============================] - 650s 1s/step - loss: 0.6707 - acc: 0.5687\n",
      "Epoch 2/3\n",
      "546/546 [==============================] - 693s 1s/step - loss: 0.6171 - acc: 0.6527\n",
      "Epoch 3/3\n",
      "546/546 [==============================] - 665s 1s/step - loss: 0.5779 - acc: 0.6940\n"
     ]
    },
    {
     "data": {
      "text/plain": [
       "<tensorflow.python.keras.callbacks.History at 0x7ff81ec227d0>"
      ]
     },
     "execution_count": 110,
     "metadata": {},
     "output_type": "execute_result"
    }
   ],
   "source": [
    "model.fit(X_final, y_final, epochs=3)"
   ]
  },
  {
   "cell_type": "code",
   "execution_count": 114,
   "metadata": {},
   "outputs": [],
   "source": [
    "model.save('lstm_model.h5')"
   ]
  },
  {
   "cell_type": "code",
   "execution_count": 51,
   "metadata": {},
   "outputs": [],
   "source": [
    "# def model_func(layer_three_neurons=32, layer_four_neurons=16, layer_one_dropout=0.5, layer_two_dropout=0.5, layer_three_dropout=0.5, layer_four_dropout=0.5):\n",
    "#     model = Sequential()\n",
    "#     model.add(Embedding(vocab_size,output_dim=40,input_length=500))\n",
    "#     model.add(Dropout(layer_one_dropout))\n",
    "#     model.add(LSTM(256))\n",
    "#     model.add(Dropout(layer_two_dropout))\n",
    "#     model.add(Dense(layer_three_neurons, activation='relu'))\n",
    "#     model.add(Dropout(layer_three_dropout))\n",
    "#     model.add(Dense(layer_four_neurons, activation='relu'))\n",
    "#     model.add(Dropout(layer_four_dropout))\n",
    "#     model.add(Dense(1, activation='sigmoid')) # We can also use \"linear\"\n",
    "#     model.compile(loss='binary_crossentropy', optimizer='adam', metrics = ['acc'])\n",
    "#     return model\n",
    "\n",
    "# # define the model with the wrapper\n",
    "# nn = KerasClassifier(build_fn=model_func, epochs=10, batch_size=512)"
   ]
  },
  {
   "cell_type": "code",
   "execution_count": 52,
   "metadata": {},
   "outputs": [],
   "source": [
    "# # Params grid\n",
    "# params = {\n",
    "#     \"epochs\":[10, 20],\n",
    "#     \"layer_three_neurons\":[20, 32],\n",
    "#     \"layer_four_neurons\":[16, 32],\n",
    "#     \"layer_one_dropout\":[0.1, 0.3, 0.5],\n",
    "#     \"layer_two_dropout\":[0.1, 0.3, 0.5],\n",
    "#     \"layer_three_dropout\":[0.1, 0.3, 0.5],\n",
    "#     \"layer_four_dropout\":[0.1, 0.3, 0.5]\n",
    "# }\n",
    "# gs = GridSearchCV(estimator=nn, param_grid=params, cv=2) # I'm using cv=2 for the sake of time! \n",
    "# gs.fit(X_train, y_train)\n",
    "# print(gs.best_score_)\n",
    "# gs.best_params_"
   ]
  },
  {
   "cell_type": "code",
   "execution_count": null,
   "metadata": {},
   "outputs": [],
   "source": []
  }
 ],
 "metadata": {
  "kernelspec": {
   "display_name": "Python 3",
   "language": "python",
   "name": "python3"
  },
  "language_info": {
   "codemirror_mode": {
    "name": "ipython",
    "version": 3
   },
   "file_extension": ".py",
   "mimetype": "text/x-python",
   "name": "python",
   "nbconvert_exporter": "python",
   "pygments_lexer": "ipython3",
   "version": "3.7.9"
  }
 },
 "nbformat": 4,
 "nbformat_minor": 4
}
